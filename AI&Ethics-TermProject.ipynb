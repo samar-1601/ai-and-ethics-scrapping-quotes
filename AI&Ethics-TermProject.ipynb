{
 "cells": [
  {
   "cell_type": "code",
   "execution_count": 70,
   "id": "e7408bd7",
   "metadata": {},
   "outputs": [],
   "source": [
    "from bs4 import BeautifulSoup\n",
    "import pandas as pd\n",
    "import requests\n"
   ]
  },
  {
   "cell_type": "code",
   "execution_count": null,
   "id": "4c3268b5",
   "metadata": {},
   "outputs": [],
   "source": [
    "authors = [\"mahatma gandhi\", \"Donald Trump\", \"Barack Obama\", \"buddha\", \"sachin tendulkar\", \"narendra modi\"]\n",
    "for author in authors:\n",
    "    for i in range(1, 10):\n",
    "        url = f\"https://www.goodreads.com/quotes/search?commit=Search&page={i}&q={'+'.join(author.split())}&utf8=%E2%9C%93\"\n",
    "        req = requests.get(url)\n",
    "        soup = BeautifulSoup(req.text, \"lxml\")\n",
    "        quoteList = soup.find_all(class_ = \"quoteText\")\n",
    "        df = pd.DataFrame(columns=[\"quote\", \"author\", \"Correctness\"])\n",
    "        for quote in quoteList:\n",
    "            y = quote.text.replace('\\n', '').split('―')\n",
    "            y = [t.replace('“', '').replace('”', '').strip() for t in y]\n",
    "            if author in y[1].lower():\n",
    "                y[1] = author\n",
    "                df.loc[len(df)] = [y[0], y[1], 1]\n",
    "                print(y)"
   ]
  },
  {
   "cell_type": "code",
   "execution_count": null,
   "id": "e95b34fd",
   "metadata": {},
   "outputs": [
    {
     "data": {
      "text/html": [
       "<div>\n",
       "<style scoped>\n",
       "    .dataframe tbody tr th:only-of-type {\n",
       "        vertical-align: middle;\n",
       "    }\n",
       "\n",
       "    .dataframe tbody tr th {\n",
       "        vertical-align: top;\n",
       "    }\n",
       "\n",
       "    .dataframe thead th {\n",
       "        text-align: right;\n",
       "    }\n",
       "</style>\n",
       "<table border=\"1\" class=\"dataframe\">\n",
       "  <thead>\n",
       "    <tr style=\"text-align: right;\">\n",
       "      <th></th>\n",
       "      <th>quote</th>\n",
       "      <th>author</th>\n",
       "      <th>Correctness</th>\n",
       "    </tr>\n",
       "  </thead>\n",
       "  <tbody>\n",
       "    <tr>\n",
       "      <th>0</th>\n",
       "      <td>Gandhi was not talking about defeating or over...</td>\n",
       "      <td>mahatma gandhi</td>\n",
       "      <td>1</td>\n",
       "    </tr>\n",
       "    <tr>\n",
       "      <th>1</th>\n",
       "      <td>Identification with everything that lives is i...</td>\n",
       "      <td>mahatma gandhi</td>\n",
       "      <td>1</td>\n",
       "    </tr>\n",
       "    <tr>\n",
       "      <th>2</th>\n",
       "      <td>No knowledge is to be found without seeking, n...</td>\n",
       "      <td>mahatma gandhi</td>\n",
       "      <td>1</td>\n",
       "    </tr>\n",
       "    <tr>\n",
       "      <th>3</th>\n",
       "      <td>If we see anyone who renounces his rights in r...</td>\n",
       "      <td>mahatma gandhi</td>\n",
       "      <td>1</td>\n",
       "    </tr>\n",
       "    <tr>\n",
       "      <th>4</th>\n",
       "      <td>Truth is by nature self-evident. As soon as yo...</td>\n",
       "      <td>mahatma gandhi</td>\n",
       "      <td>1</td>\n",
       "    </tr>\n",
       "  </tbody>\n",
       "</table>\n",
       "</div>"
      ],
      "text/plain": [
       "                                               quote          author  \\\n",
       "0  Gandhi was not talking about defeating or over...  mahatma gandhi   \n",
       "1  Identification with everything that lives is i...  mahatma gandhi   \n",
       "2  No knowledge is to be found without seeking, n...  mahatma gandhi   \n",
       "3  If we see anyone who renounces his rights in r...  mahatma gandhi   \n",
       "4  Truth is by nature self-evident. As soon as yo...  mahatma gandhi   \n",
       "\n",
       "  Correctness  \n",
       "0           1  \n",
       "1           1  \n",
       "2           1  \n",
       "3           1  \n",
       "4           1  "
      ]
     },
     "execution_count": 67,
     "metadata": {},
     "output_type": "execute_result"
    }
   ],
   "source": [
    "df.head()"
   ]
  }
 ],
 "metadata": {
  "interpreter": {
   "hash": "07efdcd4b820c98a756949507a4d29d7862823915ec7477944641bea022f4f62"
  },
  "kernelspec": {
   "display_name": "Python 3 (ipykernel)",
   "language": "python",
   "name": "python3"
  },
  "language_info": {
   "codemirror_mode": {
    "name": "ipython",
    "version": 3
   },
   "file_extension": ".py",
   "mimetype": "text/x-python",
   "name": "python",
   "nbconvert_exporter": "python",
   "pygments_lexer": "ipython3",
   "version": "3.9.7"
  }
 },
 "nbformat": 4,
 "nbformat_minor": 5
}
